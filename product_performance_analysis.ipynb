{
 "cells": [
  {
   "cell_type": "code",
   "execution_count": 75,
   "id": "e31668be",
   "metadata": {},
   "outputs": [
    {
     "name": "stdout",
     "output_type": "stream",
     "text": [
      "[('olist_order_customer_dataset',), ('olist_order_dataset',), ('olist_order_reviews_dataset',), ('olist_order_payments_dataset',), ('olist_order_items_dataset',), ('olist_products_dataset',), ('olist_sellers_dataset',), ('olist_geolocation_dataset',), ('product_category_name_translation',)]\n"
     ]
    }
   ],
   "source": [
    "# Mengimpor library\n",
    "import sqlite3\n",
    "import pandas as pd\n",
    "import seaborn as sns\n",
    "\n",
    "# membuat file path\n",
    "dbfile = 'olist.db'\n",
    "# Membuat SQL connection ke SQLite database\n",
    "con = sqlite3.connect(dbfile)\n",
    "\n",
    "# Membuat cursor\n",
    "cur = con.cursor()\n",
    "\n",
    "# Menampilkan semua tabel yang terdapat pada database\n",
    "table_list = [a for a in cur.execute(\"SELECT name FROM sqlite_master WHERE type = 'table'\")]\n",
    "# Menampilkan nama tabel\n",
    "print(table_list)"
   ]
  },
  {
   "cell_type": "markdown",
   "id": "321df024",
   "metadata": {},
   "source": [
    "# Langkah 1 - Menentukan Objektif\n",
    "\n",
    "Menentukan objektif permasalahan:\n",
    "\n",
    "1. Perusahaan ingin mengetahui 10 kategori produk yang paling diminati/paling banyak diorder\n",
    "2. Perusahaan ingin melihat total penjualan dari 10 kategori produk yang terbesar\n",
    "3. Perusahaan menginginkan informasi pertumbuhan pemesanan produk dari 10 produk yang paling diminati"
   ]
  },
  {
   "cell_type": "markdown",
   "id": "b413e222",
   "metadata": {},
   "source": [
    "# Langkah 2 - Mengakses Dataset dan Analisa"
   ]
  },
  {
   "cell_type": "markdown",
   "id": "0c22660c",
   "metadata": {},
   "source": [
    "Database yang akan diakses untuk menganalisa dan membantu menjawab objektif diatas adalah:\n",
    "\n",
    "1. olist_order_items_dataset\n",
    "2. olist_orders_dataset\n",
    "3. olist_products_dataset"
   ]
  },
  {
   "cell_type": "code",
   "execution_count": 76,
   "id": "3da0e1f5",
   "metadata": {},
   "outputs": [
    {
     "data": {
      "text/plain": [
       "Index(['index', 'order_id', 'customer_id', 'order_status',\n",
       "       'order_purchase_timestamp', 'order_approved_at',\n",
       "       'order_delivered_carrier_date', 'order_delivered_customer_date',\n",
       "       'order_estimated_delivery_date'],\n",
       "      dtype='object')"
      ]
     },
     "execution_count": 76,
     "metadata": {},
     "output_type": "execute_result"
    }
   ],
   "source": [
    "# Mengakses database olist_order_dataset dalam variabel olist_order\n",
    "olist_order = pd.read_sql_query('SELECT * FROM olist_order_dataset', con)\n",
    "olist_order.columns"
   ]
  },
  {
   "cell_type": "code",
   "execution_count": 77,
   "id": "5429ac79",
   "metadata": {},
   "outputs": [
    {
     "data": {
      "text/plain": [
       "Index(['index', 'order_id', 'order_item_id', 'product_id', 'seller_id',\n",
       "       'shipping_limit_date', 'price', 'freight_value'],\n",
       "      dtype='object')"
      ]
     },
     "execution_count": 77,
     "metadata": {},
     "output_type": "execute_result"
    }
   ],
   "source": [
    "# Mengakses database olist_order_items_dataset dalam variabel olist_order_items\n",
    "olist_order_items = pd.read_sql_query('SELECT * FROM olist_order_items_dataset WHERE order_item_id > 1', con)\n",
    "olist_order_items.columns"
   ]
  },
  {
   "cell_type": "code",
   "execution_count": 78,
   "id": "3167058b",
   "metadata": {},
   "outputs": [
    {
     "data": {
      "text/plain": [
       "Index(['index', 'product_id', 'product_category_name', 'product_name_lenght',\n",
       "       'product_description_lenght', 'product_photos_qty', 'product_weight_g',\n",
       "       'product_length_cm', 'product_height_cm', 'product_width_cm'],\n",
       "      dtype='object')"
      ]
     },
     "execution_count": 78,
     "metadata": {},
     "output_type": "execute_result"
    }
   ],
   "source": [
    "# Mengakses database olist_products_dataset dalam variabel olist_products\n",
    "olist_products = pd.read_sql_query('SELECT * FROM olist_products_dataset', con)\n",
    "olist_products.columns"
   ]
  },
  {
   "cell_type": "markdown",
   "id": "0930a376",
   "metadata": {},
   "source": [
    "Lalu, kita menghapus kolom-kolom yang tidak diperlukan pada setiap tabel dalam analisa yakni:\n",
    "    \n",
    "1. olist_order_items_dataset\n",
    "\n",
    "- seller_id\n",
    "- shipping_limit_date\n",
    "- index\n",
    "\n",
    "2. olist_order_dataset\n",
    "\n",
    "- order_status\n",
    "- order_delivered_customer_date\n",
    "- order_estimated_delivery_date\n",
    "- order_delivered_carrier_date\n",
    "- customer_id\n",
    "- index\n",
    "\n",
    "3. olist_products_dataset\n",
    "\n",
    "- product_photos_qty\n",
    "- product_weight_g\n",
    "- product_length_cm\n",
    "- product_height_cm\n",
    "- product_width_cm\n",
    "- product_description_lenght\n",
    "- product_name_lenght\n",
    "- index"
   ]
  },
  {
   "cell_type": "code",
   "execution_count": 79,
   "id": "9aa1e940",
   "metadata": {},
   "outputs": [
    {
     "data": {
      "text/plain": [
       "Index(['order_id', 'order_purchase_timestamp', 'order_approved_at'], dtype='object')"
      ]
     },
     "execution_count": 79,
     "metadata": {},
     "output_type": "execute_result"
    }
   ],
   "source": [
    "# Menghapus kolom pada olist_order DataFrame\n",
    "olist_order = olist_order.drop(['order_status', 'order_delivered_customer_date', \n",
    "                                'order_estimated_delivery_date', 'order_delivered_carrier_date','index',\n",
    "                                'customer_id'], axis = 1)\n",
    "olist_order.columns"
   ]
  },
  {
   "cell_type": "code",
   "execution_count": 80,
   "id": "3a5c8db1",
   "metadata": {},
   "outputs": [
    {
     "data": {
      "text/plain": [
       "Index(['order_id', 'order_item_id', 'product_id', 'price', 'freight_value'], dtype='object')"
      ]
     },
     "execution_count": 80,
     "metadata": {},
     "output_type": "execute_result"
    }
   ],
   "source": [
    "# Menghapus kolom pada olist_order_items DataFrame\n",
    "olist_order_items = olist_order_items.drop(['seller_id', 'shipping_limit_date', 'index'], axis = 1)\n",
    "olist_order_items.columns"
   ]
  },
  {
   "cell_type": "code",
   "execution_count": 81,
   "id": "49100465",
   "metadata": {},
   "outputs": [
    {
     "data": {
      "text/plain": [
       "Index(['product_id', 'product_category_name'], dtype='object')"
      ]
     },
     "execution_count": 81,
     "metadata": {},
     "output_type": "execute_result"
    }
   ],
   "source": [
    "# Menghapus kolom pada olist_products DataFrame\n",
    "olist_products = olist_products.drop(['product_photos_qty', 'product_weight_g', 'product_length_cm', 'product_height_cm',\n",
    "                                      'product_width_cm', 'product_description_lenght', 'product_name_lenght', 'index'], axis = 1)\n",
    "olist_products.columns"
   ]
  },
  {
   "cell_type": "markdown",
   "id": "d9e8d0fe",
   "metadata": {},
   "source": [
    "# Langkah 3 - Eksplorasi dan pemrosesan data\n",
    "\n",
    "Langkah pertama, kita mencari missing value pada setiap tabel."
   ]
  },
  {
   "cell_type": "code",
   "execution_count": 82,
   "id": "7c819100",
   "metadata": {},
   "outputs": [
    {
     "data": {
      "text/plain": [
       "order_approved_at           160\n",
       "order_id                      0\n",
       "order_purchase_timestamp      0\n",
       "dtype: int64"
      ]
     },
     "execution_count": 82,
     "metadata": {},
     "output_type": "execute_result"
    }
   ],
   "source": [
    "# Mengidentifikasi missing value pada olist_order DataFrame\n",
    "olist_order.isna().sum().sort_values(ascending = False)"
   ]
  },
  {
   "cell_type": "code",
   "execution_count": 83,
   "id": "b5e28c1d",
   "metadata": {},
   "outputs": [
    {
     "data": {
      "text/plain": [
       "order_id         0\n",
       "order_item_id    0\n",
       "product_id       0\n",
       "price            0\n",
       "freight_value    0\n",
       "dtype: int64"
      ]
     },
     "execution_count": 83,
     "metadata": {},
     "output_type": "execute_result"
    }
   ],
   "source": [
    "# Mengidentifikasi missing value pada olist_order_items DataFrame\n",
    "olist_order_items.isna().sum().sort_values(ascending = False)"
   ]
  },
  {
   "cell_type": "code",
   "execution_count": 84,
   "id": "ba22d870",
   "metadata": {},
   "outputs": [
    {
     "data": {
      "text/plain": [
       "product_category_name    610\n",
       "product_id                 0\n",
       "dtype: int64"
      ]
     },
     "execution_count": 84,
     "metadata": {},
     "output_type": "execute_result"
    }
   ],
   "source": [
    "# Mengidentifikasi missing value pada olist_products DataFrame\n",
    "olist_products.isna().sum().sort_values(ascending = False)"
   ]
  },
  {
   "cell_type": "markdown",
   "id": "ab961eb0",
   "metadata": {},
   "source": [
    "Setelah kita mendapatkan kolom mana saja yang terdapat missing value, kita akan melihat tipe data dari masing-masing kolom yang memiliki missing value tersebut"
   ]
  },
  {
   "cell_type": "code",
   "execution_count": 85,
   "id": "e1636720",
   "metadata": {},
   "outputs": [
    {
     "name": "stdout",
     "output_type": "stream",
     "text": [
      "<class 'pandas.core.series.Series'>\n",
      "RangeIndex: 99441 entries, 0 to 99440\n",
      "Series name: order_approved_at\n",
      "Non-Null Count  Dtype \n",
      "--------------  ----- \n",
      "99281 non-null  object\n",
      "dtypes: object(1)\n",
      "memory usage: 777.0+ KB\n"
     ]
    }
   ],
   "source": [
    "# Mencari informasi mengenai tipe data pada kolom di olist_order DataFrame yang terdapat missing value\n",
    "olist_order['order_approved_at'].info()"
   ]
  },
  {
   "cell_type": "code",
   "execution_count": 86,
   "id": "16fd4508",
   "metadata": {},
   "outputs": [
    {
     "name": "stdout",
     "output_type": "stream",
     "text": [
      "<class 'pandas.core.series.Series'>\n",
      "RangeIndex: 32951 entries, 0 to 32950\n",
      "Series name: product_category_name\n",
      "Non-Null Count  Dtype \n",
      "--------------  ----- \n",
      "32341 non-null  object\n",
      "dtypes: object(1)\n",
      "memory usage: 257.6+ KB\n"
     ]
    }
   ],
   "source": [
    "# Mencari informasi mengenai tipe data pada kolom di olist_products DataFrame yang terdapat missing value\n",
    "olist_products['product_category_name'].info()"
   ]
  },
  {
   "cell_type": "markdown",
   "id": "ece1fea9",
   "metadata": {},
   "source": [
    "Lalu kita akan menggantikan missing value tersebut dengan ketentuan sebagai berikut:\n",
    "    \n",
    "1. missing value pada olist_order['order_approved_at'] akan di drop atau dieliminasi karena order tersebut tidak jadi dibeli atau tidak di checkout"
   ]
  },
  {
   "cell_type": "code",
   "execution_count": 87,
   "id": "02727e09",
   "metadata": {},
   "outputs": [],
   "source": [
    "# Melakukan penghapusan baris pada baris yang terdapat missing value\n",
    "olist_order = olist_order.dropna(subset = ['order_approved_at'])"
   ]
  },
  {
   "cell_type": "code",
   "execution_count": 88,
   "id": "e899b789",
   "metadata": {},
   "outputs": [
    {
     "data": {
      "text/plain": [
       "order_id                    0\n",
       "order_purchase_timestamp    0\n",
       "order_approved_at           0\n",
       "dtype: int64"
      ]
     },
     "execution_count": 88,
     "metadata": {},
     "output_type": "execute_result"
    }
   ],
   "source": [
    "# Mengidentifikasi missing value pada olist_order DataFrame\n",
    "olist_order.isna().sum().sort_values(ascending = False)"
   ]
  },
  {
   "cell_type": "markdown",
   "id": "18fadc67",
   "metadata": {},
   "source": [
    "2. missing value pada olist_products['product_category_name'] akan digantikan dengan 'Unknown'"
   ]
  },
  {
   "cell_type": "code",
   "execution_count": 89,
   "id": "1d9425f6",
   "metadata": {},
   "outputs": [],
   "source": [
    "# Melakukan penginputan pada baris yang terdapat missing value\n",
    "olist_products['product_category_name'] = olist_products['product_category_name'].fillna('unknown')"
   ]
  },
  {
   "cell_type": "code",
   "execution_count": 90,
   "id": "3ebaa05f",
   "metadata": {},
   "outputs": [
    {
     "data": {
      "text/plain": [
       "product_id               0\n",
       "product_category_name    0\n",
       "dtype: int64"
      ]
     },
     "execution_count": 90,
     "metadata": {},
     "output_type": "execute_result"
    }
   ],
   "source": [
    "# Mengidentifikasi missing value pada olist_products DataFrame\n",
    "olist_products.isna().sum().sort_values()"
   ]
  },
  {
   "cell_type": "markdown",
   "id": "10460ab2",
   "metadata": {},
   "source": [
    "Mencari duplikasi data yang terdapat pada ketiga dataset:"
   ]
  },
  {
   "cell_type": "code",
   "execution_count": 91,
   "id": "c7996c3d",
   "metadata": {},
   "outputs": [
    {
     "data": {
      "text/plain": [
       "0"
      ]
     },
     "execution_count": 91,
     "metadata": {},
     "output_type": "execute_result"
    }
   ],
   "source": [
    "# Mengidentifikasi data duplikat pada olist_order DataFrame\n",
    "olist_order.duplicated().sum()"
   ]
  },
  {
   "cell_type": "code",
   "execution_count": 92,
   "id": "eb8c7b8c",
   "metadata": {},
   "outputs": [
    {
     "data": {
      "text/plain": [
       "0"
      ]
     },
     "execution_count": 92,
     "metadata": {},
     "output_type": "execute_result"
    }
   ],
   "source": [
    "# Mengidentifikasi data duplikat pada olist_products DataFrame\n",
    "olist_products.duplicated().sum()"
   ]
  },
  {
   "cell_type": "code",
   "execution_count": 93,
   "id": "123bb982",
   "metadata": {},
   "outputs": [
    {
     "data": {
      "text/plain": [
       "0"
      ]
     },
     "execution_count": 93,
     "metadata": {},
     "output_type": "execute_result"
    }
   ],
   "source": [
    "# Mengidentifikasi data duplikat pada olist_order_items DataFrame\n",
    "olist_order_items.duplicated().sum()"
   ]
  },
  {
   "cell_type": "markdown",
   "id": "73e77eda",
   "metadata": {},
   "source": [
    "Setelah mengetahui tidak adanya duplikasi dalam ketiga dataset. Lalu kita akan mengubah olist_products['product_category_name'] menjadi bahasa inggris karena hampir semua ditulis dengan bahasa portugis (inkonsisten data) menggunakan 'product_category_name_translation' dataset"
   ]
  },
  {
   "cell_type": "code",
   "execution_count": 94,
   "id": "f8fac580",
   "metadata": {},
   "outputs": [
    {
     "data": {
      "text/html": [
       "<div>\n",
       "<style scoped>\n",
       "    .dataframe tbody tr th:only-of-type {\n",
       "        vertical-align: middle;\n",
       "    }\n",
       "\n",
       "    .dataframe tbody tr th {\n",
       "        vertical-align: top;\n",
       "    }\n",
       "\n",
       "    .dataframe thead th {\n",
       "        text-align: right;\n",
       "    }\n",
       "</style>\n",
       "<table border=\"1\" class=\"dataframe\">\n",
       "  <thead>\n",
       "    <tr style=\"text-align: right;\">\n",
       "      <th></th>\n",
       "      <th>product_id</th>\n",
       "      <th>product_category_name</th>\n",
       "    </tr>\n",
       "  </thead>\n",
       "  <tbody>\n",
       "    <tr>\n",
       "      <th>0</th>\n",
       "      <td>1e9e8ef04dbcff4541ed26657ea517e5</td>\n",
       "      <td>perfumaria</td>\n",
       "    </tr>\n",
       "    <tr>\n",
       "      <th>1</th>\n",
       "      <td>3aa071139cb16b67ca9e5dea641aaa2f</td>\n",
       "      <td>artes</td>\n",
       "    </tr>\n",
       "    <tr>\n",
       "      <th>2</th>\n",
       "      <td>96bd76ec8810374ed1b65e291975717f</td>\n",
       "      <td>esporte_lazer</td>\n",
       "    </tr>\n",
       "    <tr>\n",
       "      <th>3</th>\n",
       "      <td>cef67bcfe19066a932b7673e239eb23d</td>\n",
       "      <td>bebes</td>\n",
       "    </tr>\n",
       "    <tr>\n",
       "      <th>4</th>\n",
       "      <td>9dc1a7de274444849c219cff195d0b71</td>\n",
       "      <td>utilidades_domesticas</td>\n",
       "    </tr>\n",
       "  </tbody>\n",
       "</table>\n",
       "</div>"
      ],
      "text/plain": [
       "                         product_id  product_category_name\n",
       "0  1e9e8ef04dbcff4541ed26657ea517e5             perfumaria\n",
       "1  3aa071139cb16b67ca9e5dea641aaa2f                  artes\n",
       "2  96bd76ec8810374ed1b65e291975717f          esporte_lazer\n",
       "3  cef67bcfe19066a932b7673e239eb23d                  bebes\n",
       "4  9dc1a7de274444849c219cff195d0b71  utilidades_domesticas"
      ]
     },
     "execution_count": 94,
     "metadata": {},
     "output_type": "execute_result"
    }
   ],
   "source": [
    "# Menampilkan olist_products DataFrame\n",
    "olist_products.head()"
   ]
  },
  {
   "cell_type": "code",
   "execution_count": 95,
   "id": "5db365d1",
   "metadata": {},
   "outputs": [
    {
     "data": {
      "text/html": [
       "<div>\n",
       "<style scoped>\n",
       "    .dataframe tbody tr th:only-of-type {\n",
       "        vertical-align: middle;\n",
       "    }\n",
       "\n",
       "    .dataframe tbody tr th {\n",
       "        vertical-align: top;\n",
       "    }\n",
       "\n",
       "    .dataframe thead th {\n",
       "        text-align: right;\n",
       "    }\n",
       "</style>\n",
       "<table border=\"1\" class=\"dataframe\">\n",
       "  <thead>\n",
       "    <tr style=\"text-align: right;\">\n",
       "      <th></th>\n",
       "      <th>index</th>\n",
       "      <th>product_category_name</th>\n",
       "      <th>product_category_name_english</th>\n",
       "    </tr>\n",
       "  </thead>\n",
       "  <tbody>\n",
       "    <tr>\n",
       "      <th>0</th>\n",
       "      <td>0</td>\n",
       "      <td>beleza_saude</td>\n",
       "      <td>health_beauty</td>\n",
       "    </tr>\n",
       "    <tr>\n",
       "      <th>1</th>\n",
       "      <td>1</td>\n",
       "      <td>informatica_acessorios</td>\n",
       "      <td>computers_accessories</td>\n",
       "    </tr>\n",
       "    <tr>\n",
       "      <th>2</th>\n",
       "      <td>2</td>\n",
       "      <td>automotivo</td>\n",
       "      <td>auto</td>\n",
       "    </tr>\n",
       "    <tr>\n",
       "      <th>3</th>\n",
       "      <td>3</td>\n",
       "      <td>cama_mesa_banho</td>\n",
       "      <td>bed_bath_table</td>\n",
       "    </tr>\n",
       "    <tr>\n",
       "      <th>4</th>\n",
       "      <td>4</td>\n",
       "      <td>moveis_decoracao</td>\n",
       "      <td>furniture_decor</td>\n",
       "    </tr>\n",
       "    <tr>\n",
       "      <th>...</th>\n",
       "      <td>...</td>\n",
       "      <td>...</td>\n",
       "      <td>...</td>\n",
       "    </tr>\n",
       "    <tr>\n",
       "      <th>66</th>\n",
       "      <td>66</td>\n",
       "      <td>flores</td>\n",
       "      <td>flowers</td>\n",
       "    </tr>\n",
       "    <tr>\n",
       "      <th>67</th>\n",
       "      <td>67</td>\n",
       "      <td>artes_e_artesanato</td>\n",
       "      <td>arts_and_craftmanship</td>\n",
       "    </tr>\n",
       "    <tr>\n",
       "      <th>68</th>\n",
       "      <td>68</td>\n",
       "      <td>fraldas_higiene</td>\n",
       "      <td>diapers_and_hygiene</td>\n",
       "    </tr>\n",
       "    <tr>\n",
       "      <th>69</th>\n",
       "      <td>69</td>\n",
       "      <td>fashion_roupa_infanto_juvenil</td>\n",
       "      <td>fashion_childrens_clothes</td>\n",
       "    </tr>\n",
       "    <tr>\n",
       "      <th>70</th>\n",
       "      <td>70</td>\n",
       "      <td>seguros_e_servicos</td>\n",
       "      <td>security_and_services</td>\n",
       "    </tr>\n",
       "  </tbody>\n",
       "</table>\n",
       "<p>71 rows × 3 columns</p>\n",
       "</div>"
      ],
      "text/plain": [
       "    index          product_category_name product_category_name_english\n",
       "0       0                   beleza_saude                 health_beauty\n",
       "1       1         informatica_acessorios         computers_accessories\n",
       "2       2                     automotivo                          auto\n",
       "3       3                cama_mesa_banho                bed_bath_table\n",
       "4       4               moveis_decoracao               furniture_decor\n",
       "..    ...                            ...                           ...\n",
       "66     66                         flores                       flowers\n",
       "67     67             artes_e_artesanato         arts_and_craftmanship\n",
       "68     68                fraldas_higiene           diapers_and_hygiene\n",
       "69     69  fashion_roupa_infanto_juvenil     fashion_childrens_clothes\n",
       "70     70             seguros_e_servicos         security_and_services\n",
       "\n",
       "[71 rows x 3 columns]"
      ]
     },
     "execution_count": 95,
     "metadata": {},
     "output_type": "execute_result"
    }
   ],
   "source": [
    "# Mengakses database product_category_name_translation dalam variabel olist_product_name\n",
    "olist_product_name = pd.read_sql_query('SELECT * FROM product_category_name_translation', con)\n",
    "olist_product_name"
   ]
  },
  {
   "cell_type": "code",
   "execution_count": 96,
   "id": "68c9624f",
   "metadata": {},
   "outputs": [
    {
     "data": {
      "text/plain": [
       "71"
      ]
     },
     "execution_count": 96,
     "metadata": {},
     "output_type": "execute_result"
    }
   ],
   "source": [
    "# Mengukur jumlah value yang unik dari kolom product_category_name pada olist_product_name DataFrame\n",
    "len(olist_product_name['product_category_name'].unique())"
   ]
  },
  {
   "cell_type": "code",
   "execution_count": 97,
   "id": "0354ff3e",
   "metadata": {},
   "outputs": [
    {
     "data": {
      "text/plain": [
       "74"
      ]
     },
     "execution_count": 97,
     "metadata": {},
     "output_type": "execute_result"
    }
   ],
   "source": [
    "# Mengukur jumlah value yang unik dari kolom product_category_name pada olist_products DataFrame\n",
    "len(olist_products['product_category_name'].unique())"
   ]
  },
  {
   "cell_type": "code",
   "execution_count": 98,
   "id": "cba1d305",
   "metadata": {},
   "outputs": [],
   "source": [
    "# Menghapus kolom index pada olist_product_name DataFrame\n",
    "olist_product_name = olist_product_name.drop(['index'], axis = 1)"
   ]
  },
  {
   "cell_type": "markdown",
   "id": "6fddd9f9",
   "metadata": {},
   "source": [
    "Turns out, the product_category_name_translation is not an exhaustive dataframe. Where \"portateis_cozinha_e_preparadores_de_alimentos\" and \"pc_gamer\" are not included in the Dataframe. Therefore, explain the differences between the lenght of olist_product_name['product_category_name'] and olist_products['product_category_name'] unique value. While the other one is \"unknown\" which we will fill the missing value later.\n",
    "\n",
    "We have to input both of the item into the Dataframe.\t"
   ]
  },
  {
   "cell_type": "code",
   "execution_count": 99,
   "id": "356869cb",
   "metadata": {},
   "outputs": [
    {
     "data": {
      "text/html": [
       "<div>\n",
       "<style scoped>\n",
       "    .dataframe tbody tr th:only-of-type {\n",
       "        vertical-align: middle;\n",
       "    }\n",
       "\n",
       "    .dataframe tbody tr th {\n",
       "        vertical-align: top;\n",
       "    }\n",
       "\n",
       "    .dataframe thead th {\n",
       "        text-align: right;\n",
       "    }\n",
       "</style>\n",
       "<table border=\"1\" class=\"dataframe\">\n",
       "  <thead>\n",
       "    <tr style=\"text-align: right;\">\n",
       "      <th></th>\n",
       "      <th>product_category_name</th>\n",
       "      <th>product_category_name_english</th>\n",
       "    </tr>\n",
       "  </thead>\n",
       "  <tbody>\n",
       "    <tr>\n",
       "      <th>0</th>\n",
       "      <td>pc_gamer</td>\n",
       "      <td>pc_gamer</td>\n",
       "    </tr>\n",
       "    <tr>\n",
       "      <th>1</th>\n",
       "      <td>portateis_cozinha_e_preparadores_de_alimentos</td>\n",
       "      <td>portable_kitchen_food_preparers</td>\n",
       "    </tr>\n",
       "  </tbody>\n",
       "</table>\n",
       "</div>"
      ],
      "text/plain": [
       "                           product_category_name  \\\n",
       "0                                       pc_gamer   \n",
       "1  portateis_cozinha_e_preparadores_de_alimentos   \n",
       "\n",
       "     product_category_name_english  \n",
       "0                         pc_gamer  \n",
       "1  portable_kitchen_food_preparers  "
      ]
     },
     "execution_count": 99,
     "metadata": {},
     "output_type": "execute_result"
    }
   ],
   "source": [
    "# Membuat DataFrame baru untuk menambahkan value ke dalam olist_product_name DataFrame\n",
    "differences = {'product_category_name': ['pc_gamer','portateis_cozinha_e_preparadores_de_alimentos'], \n",
    "               'product_category_name_english': ['pc_gamer', 'portable_kitchen_food_preparers']}\n",
    "differences_item = pd.DataFrame(differences)\n",
    "differences_item"
   ]
  },
  {
   "cell_type": "code",
   "execution_count": 100,
   "id": "37897af1",
   "metadata": {},
   "outputs": [
    {
     "name": "stderr",
     "output_type": "stream",
     "text": [
      "C:\\Users\\62821\\AppData\\Local\\Temp\\ipykernel_25568\\3089567432.py:1: FutureWarning: The frame.append method is deprecated and will be removed from pandas in a future version. Use pandas.concat instead.\n",
      "  olist_product_name = olist_product_name.append(differences_item, ignore_index = True)\n"
     ]
    }
   ],
   "source": [
    "# Menambahkan DataFrame baru ke dalam olist_product_name DataFrame\n",
    "olist_product_name = olist_product_name.append(differences_item, ignore_index = True)"
   ]
  },
  {
   "cell_type": "code",
   "execution_count": 101,
   "id": "67590ee8",
   "metadata": {},
   "outputs": [
    {
     "data": {
      "text/html": [
       "<div>\n",
       "<style scoped>\n",
       "    .dataframe tbody tr th:only-of-type {\n",
       "        vertical-align: middle;\n",
       "    }\n",
       "\n",
       "    .dataframe tbody tr th {\n",
       "        vertical-align: top;\n",
       "    }\n",
       "\n",
       "    .dataframe thead th {\n",
       "        text-align: right;\n",
       "    }\n",
       "</style>\n",
       "<table border=\"1\" class=\"dataframe\">\n",
       "  <thead>\n",
       "    <tr style=\"text-align: right;\">\n",
       "      <th></th>\n",
       "      <th>product_category_name</th>\n",
       "      <th>product_category_name_english</th>\n",
       "    </tr>\n",
       "  </thead>\n",
       "  <tbody>\n",
       "    <tr>\n",
       "      <th>0</th>\n",
       "      <td>beleza_saude</td>\n",
       "      <td>health_beauty</td>\n",
       "    </tr>\n",
       "    <tr>\n",
       "      <th>1</th>\n",
       "      <td>informatica_acessorios</td>\n",
       "      <td>computers_accessories</td>\n",
       "    </tr>\n",
       "    <tr>\n",
       "      <th>2</th>\n",
       "      <td>automotivo</td>\n",
       "      <td>auto</td>\n",
       "    </tr>\n",
       "    <tr>\n",
       "      <th>3</th>\n",
       "      <td>cama_mesa_banho</td>\n",
       "      <td>bed_bath_table</td>\n",
       "    </tr>\n",
       "    <tr>\n",
       "      <th>4</th>\n",
       "      <td>moveis_decoracao</td>\n",
       "      <td>furniture_decor</td>\n",
       "    </tr>\n",
       "    <tr>\n",
       "      <th>...</th>\n",
       "      <td>...</td>\n",
       "      <td>...</td>\n",
       "    </tr>\n",
       "    <tr>\n",
       "      <th>68</th>\n",
       "      <td>fraldas_higiene</td>\n",
       "      <td>diapers_and_hygiene</td>\n",
       "    </tr>\n",
       "    <tr>\n",
       "      <th>69</th>\n",
       "      <td>fashion_roupa_infanto_juvenil</td>\n",
       "      <td>fashion_childrens_clothes</td>\n",
       "    </tr>\n",
       "    <tr>\n",
       "      <th>70</th>\n",
       "      <td>seguros_e_servicos</td>\n",
       "      <td>security_and_services</td>\n",
       "    </tr>\n",
       "    <tr>\n",
       "      <th>71</th>\n",
       "      <td>pc_gamer</td>\n",
       "      <td>pc_gamer</td>\n",
       "    </tr>\n",
       "    <tr>\n",
       "      <th>72</th>\n",
       "      <td>portateis_cozinha_e_preparadores_de_alimentos</td>\n",
       "      <td>portable_kitchen_food_preparers</td>\n",
       "    </tr>\n",
       "  </tbody>\n",
       "</table>\n",
       "<p>73 rows × 2 columns</p>\n",
       "</div>"
      ],
      "text/plain": [
       "                            product_category_name  \\\n",
       "0                                    beleza_saude   \n",
       "1                          informatica_acessorios   \n",
       "2                                      automotivo   \n",
       "3                                 cama_mesa_banho   \n",
       "4                                moveis_decoracao   \n",
       "..                                            ...   \n",
       "68                                fraldas_higiene   \n",
       "69                  fashion_roupa_infanto_juvenil   \n",
       "70                             seguros_e_servicos   \n",
       "71                                       pc_gamer   \n",
       "72  portateis_cozinha_e_preparadores_de_alimentos   \n",
       "\n",
       "      product_category_name_english  \n",
       "0                     health_beauty  \n",
       "1             computers_accessories  \n",
       "2                              auto  \n",
       "3                    bed_bath_table  \n",
       "4                   furniture_decor  \n",
       "..                              ...  \n",
       "68              diapers_and_hygiene  \n",
       "69        fashion_childrens_clothes  \n",
       "70            security_and_services  \n",
       "71                         pc_gamer  \n",
       "72  portable_kitchen_food_preparers  \n",
       "\n",
       "[73 rows x 2 columns]"
      ]
     },
     "execution_count": 101,
     "metadata": {},
     "output_type": "execute_result"
    }
   ],
   "source": [
    "# Menampilkan olist_product_name DataFrame\n",
    "olist_product_name"
   ]
  },
  {
   "cell_type": "markdown",
   "id": "cf4a23be",
   "metadata": {},
   "source": [
    "Setelah berhasil untuk menambahkan 2 barang ke dalam olist_product_name DataFrame lalu kita gabungkan dengan function 'merge' dengan olist_product_name (left-join) untuk mengganti inconsistent data pada olist_product_name['product_category_name']"
   ]
  },
  {
   "cell_type": "code",
   "execution_count": 102,
   "id": "0fcaa6bc",
   "metadata": {},
   "outputs": [],
   "source": [
    "# Menggabungkan olist_products DataFrame dengan olist_product_name DataFrame\n",
    "olist_products = pd.merge(olist_products,olist_product_name, on = \"product_category_name\", how = \"left\")"
   ]
  },
  {
   "cell_type": "code",
   "execution_count": 103,
   "id": "b5b5fc1d",
   "metadata": {},
   "outputs": [],
   "source": [
    "# Melakukan penginputan pada baris yang terdapat missing value\n",
    "olist_products['product_category_name_english'] = olist_products['product_category_name_english'].fillna('unknown')"
   ]
  },
  {
   "cell_type": "code",
   "execution_count": 104,
   "id": "9f1a850e",
   "metadata": {},
   "outputs": [
    {
     "data": {
      "text/plain": [
       "product_id                       0\n",
       "product_category_name            0\n",
       "product_category_name_english    0\n",
       "dtype: int64"
      ]
     },
     "execution_count": 104,
     "metadata": {},
     "output_type": "execute_result"
    }
   ],
   "source": [
    "# Mengidentifikasi missing value pada olist_products DataFrame\n",
    "olist_products.isna().sum()"
   ]
  },
  {
   "cell_type": "code",
   "execution_count": 105,
   "id": "af65d2a5",
   "metadata": {},
   "outputs": [
    {
     "data": {
      "text/plain": [
       "order_id                    0\n",
       "order_purchase_timestamp    0\n",
       "order_approved_at           0\n",
       "dtype: int64"
      ]
     },
     "execution_count": 105,
     "metadata": {},
     "output_type": "execute_result"
    }
   ],
   "source": [
    "# Mengidentifikasi missing value pada olist_order DataFrame\n",
    "olist_order.isna().sum()"
   ]
  },
  {
   "cell_type": "code",
   "execution_count": 106,
   "id": "1962ac30",
   "metadata": {},
   "outputs": [
    {
     "data": {
      "text/plain": [
       "order_id         0\n",
       "order_item_id    0\n",
       "product_id       0\n",
       "price            0\n",
       "freight_value    0\n",
       "dtype: int64"
      ]
     },
     "execution_count": 106,
     "metadata": {},
     "output_type": "execute_result"
    }
   ],
   "source": [
    "# Mengidentifikasi missing value pada olist_order_items DataFrame\n",
    "olist_order_items.isna().sum()"
   ]
  },
  {
   "cell_type": "markdown",
   "id": "cc23aaf4",
   "metadata": {},
   "source": [
    "Setelah melakukan proses diatas, kita akan menggabungkan 3 DataFrame menjadi 1 dengan function 'merge' untuk melakukan analisa lebih lanjut."
   ]
  },
  {
   "cell_type": "code",
   "execution_count": 107,
   "id": "7a841dd4",
   "metadata": {},
   "outputs": [],
   "source": [
    "# Menggabungkan olist_order DataFrame dengan olist_order_items DataFrame dalam join_table_temp\n",
    "join_table_temp = pd.merge(olist_order,olist_order_items, on = \"order_id\", how = \"right\")"
   ]
  },
  {
   "cell_type": "code",
   "execution_count": 108,
   "id": "1ea502aa",
   "metadata": {},
   "outputs": [],
   "source": [
    "# Menggabungkan join_table_temp DataFrame dengan olist_products DataFrame dalam variabel join_table\n",
    "join_table = pd.merge(join_table_temp,olist_products, on = \"product_id\", how = \"left\")"
   ]
  },
  {
   "cell_type": "markdown",
   "id": "b5c353ef",
   "metadata": {},
   "source": [
    "Ternyata setelah menggabungkan 3 DataFrame terdapat 1 item yakni telephony yang memiliki missing value pada kolom:\n",
    "\n",
    "1. order_purchase_timestamp\n",
    "2. order_approved_at\n",
    "\n",
    "Kita akan melakukan delete dengan fungsi 'dropna' dikarenakan kedua kolom tersebut berperan penting dalam analisa yang akan dilakukan dalam studi ini"
   ]
  },
  {
   "cell_type": "code",
   "execution_count": 109,
   "id": "de91a357",
   "metadata": {},
   "outputs": [
    {
     "data": {
      "text/plain": [
       "order_purchase_timestamp         1\n",
       "order_approved_at                1\n",
       "order_id                         0\n",
       "order_item_id                    0\n",
       "product_id                       0\n",
       "price                            0\n",
       "freight_value                    0\n",
       "product_category_name            0\n",
       "product_category_name_english    0\n",
       "dtype: int64"
      ]
     },
     "execution_count": 109,
     "metadata": {},
     "output_type": "execute_result"
    }
   ],
   "source": [
    "# Mengidentifikasi missing value pada join_table DataFrame\n",
    "join_table.isna().sum().sort_values(ascending = False)"
   ]
  },
  {
   "cell_type": "code",
   "execution_count": 110,
   "id": "fed0883a",
   "metadata": {},
   "outputs": [],
   "source": [
    "# Melakukan penghapusan baris pada baris yang terdapat missing value\n",
    "join_table = join_table.dropna(subset = ['order_approved_at'])"
   ]
  },
  {
   "cell_type": "markdown",
   "id": "76a5536e",
   "metadata": {},
   "source": [
    "Untuk analisa, kita akan membutuhkan harga total dari tiap order dengan melakukan multiplication atau pengkalian antara order_item_id (order_quantity) dengan price"
   ]
  },
  {
   "cell_type": "code",
   "execution_count": 111,
   "id": "48314e33",
   "metadata": {},
   "outputs": [],
   "source": [
    "# Melakukan perkalian pada kolom order_item_id dan price, dan dijadikan kolom baru\n",
    "join_table['total_transaction_value'] = join_table['order_item_id'] * join_table['price']"
   ]
  },
  {
   "cell_type": "markdown",
   "id": "fb0aee83",
   "metadata": {},
   "source": [
    "Sekarang, DataFrame dapat digunakan sebagai bahan untuk analisa objektif yang sudah ditentukan diatas"
   ]
  },
  {
   "cell_type": "markdown",
   "id": "48e95ace",
   "metadata": {},
   "source": [
    "# Langkah 4 - Analisa"
   ]
  },
  {
   "cell_type": "markdown",
   "id": "c20fa8ec",
   "metadata": {},
   "source": [
    "1. Perusahaan ingin mengetahui 10 kategori produk yang paling diminati/paling banyak diorder"
   ]
  },
  {
   "cell_type": "code",
   "execution_count": 112,
   "id": "85f35aaa",
   "metadata": {},
   "outputs": [],
   "source": [
    "# Melakukan agregasi (sum) dan groupby pada kolom product_category_name_english dan order_item_id\n",
    "jumlah_pembelian_barang = join_table[[\"product_category_name_english\", \"order_item_id\"]].groupby(\"product_category_name_english\").sum().sort_values(by = \"order_item_id\", ascending = False).head(10)"
   ]
  },
  {
   "cell_type": "code",
   "execution_count": 113,
   "id": "a1b11b3b",
   "metadata": {},
   "outputs": [
    {
     "data": {
      "text/plain": [
       "<AxesSubplot:ylabel='product_category_name_english'>"
      ]
     },
     "execution_count": 113,
     "metadata": {},
     "output_type": "execute_result"
    },
    {
     "data": {
      "image/png": "[encoded data removed]",
      "text/plain": [
       "<Figure size 432x288 with 1 Axes>"
      ]
     },
     "metadata": {
      "needs_background": "light"
     },
     "output_type": "display_data"
    }
   ],
   "source": [
    "# Menampilkan visualisasi dengan bar chart\n",
    "jumlah_pembelian_barang.sort_values(by = \"order_item_id\", ascending = True).plot(kind =\"barh\")"
   ]
  },
  {
   "cell_type": "markdown",
   "id": "04002817",
   "metadata": {},
   "source": [
    "2. Perusahaan ingin melihat total penjualan dari 10 kategori produk yang terbesar"
   ]
  },
  {
   "cell_type": "code",
   "execution_count": 114,
   "id": "70c3c2ea",
   "metadata": {},
   "outputs": [],
   "source": [
    "# Melakukan agregasi (sum) dan groupby pada kolom product_category_name_english dan total_transaction_value\n",
    "total_penjualan_tiap_kategori_produk = join_table[[\"product_category_name_english\",\"total_transaction_value\"]].groupby(\"product_category_name_english\").sum().sort_values(by = \"total_transaction_value\", ascending = False).head(10)"
   ]
  },
  {
   "cell_type": "code",
   "execution_count": 115,
   "id": "fd1fa8fa",
   "metadata": {},
   "outputs": [
    {
     "data": {
      "text/plain": [
       "<AxesSubplot:ylabel='product_category_name_english'>"
      ]
     },
     "execution_count": 115,
     "metadata": {},
     "output_type": "execute_result"
    },
    {
     "data": {
      "image/png": "[encoded data removed]",
      "text/plain": [
       "<Figure size 432x288 with 1 Axes>"
      ]
     },
     "metadata": {
      "needs_background": "light"
     },
     "output_type": "display_data"
    }
   ],
   "source": [
    "# Menampilkan visualisasi dengan bar chart\n",
    "total_penjualan_tiap_kategori_produk.sort_values(by = \"total_transaction_value\", ascending = True).plot(kind =\"barh\")"
   ]
  },
  {
   "cell_type": "markdown",
   "id": "bbf63da0",
   "metadata": {},
   "source": [
    "Setelah menganalisa kedua objektif diatas, dapat diketahui bahwa kategori produk yang paling diminati/paling banyak diorder tidak selalu mendatangkan pendapatan yang paling besar. \n",
    "\n",
    "Dapat dilihat bahwa furniture_decor menempati pada posisi 1 sebagai produk yang paling diminati, namun menempati posisi ketiga pada total penjualan. \n",
    "\n",
    "Sedangkan watched_gifts yang menempati posisi 10 sebagai produk yang paling diminati, tidak termasuk dalam 10 kategori produk total penjualan terbesar."
   ]
  },
  {
   "cell_type": "markdown",
   "id": "f22437a8",
   "metadata": {},
   "source": [
    "3. Perusahaan menginginkan informasi pertumbuhan pemesanan produk dari 10 produk yang paling diminati"
   ]
  },
  {
   "cell_type": "markdown",
   "id": "79051b3d",
   "metadata": {},
   "source": [
    "Sebelum melakukan analisa kita harus melihat terlebih dahulu tipe dari data order_approved_at. Jika bukan datetime, data tersebut harus diubah menjadi tipe datetime."
   ]
  },
  {
   "cell_type": "code",
   "execution_count": 116,
   "id": "b574f283",
   "metadata": {},
   "outputs": [
    {
     "name": "stdout",
     "output_type": "stream",
     "text": [
      "<class 'pandas.core.series.Series'>\n",
      "Int64Index: 13983 entries, 0 to 13983\n",
      "Series name: order_approved_at\n",
      "Non-Null Count  Dtype \n",
      "--------------  ----- \n",
      "13983 non-null  object\n",
      "dtypes: object(1)\n",
      "memory usage: 218.5+ KB\n"
     ]
    }
   ],
   "source": [
    "# Mengidentifikasi tipe data\n",
    "join_table['order_approved_at'].info()"
   ]
  },
  {
   "cell_type": "markdown",
   "id": "1b43adf8",
   "metadata": {},
   "source": [
    "Ternyata, data order_approved_at masih bertipe object sehingga harus di ubah menjadi tipe data datetime"
   ]
  },
  {
   "cell_type": "code",
   "execution_count": 117,
   "id": "43ef46b5",
   "metadata": {},
   "outputs": [],
   "source": [
    "# Melakukan slicing pada DataFrame untuk menampilkan beberapa kolom dan dimasukan ke dalam pertumbuhan_pemesanan\n",
    "pertumbuhan_pemesanan = join_table[['order_approved_at','product_category_name_english', 'order_item_id']]"
   ]
  },
  {
   "cell_type": "code",
   "execution_count": 118,
   "id": "16b02695",
   "metadata": {},
   "outputs": [
    {
     "name": "stderr",
     "output_type": "stream",
     "text": [
      "C:\\Users\\62821\\AppData\\Local\\Temp\\ipykernel_25568\\2959739886.py:1: SettingWithCopyWarning: \n",
      "A value is trying to be set on a copy of a slice from a DataFrame.\n",
      "Try using .loc[row_indexer,col_indexer] = value instead\n",
      "\n",
      "See the caveats in the documentation: https://pandas.pydata.org/pandas-docs/stable/user_guide/indexing.html#returning-a-view-versus-a-copy\n",
      "  pertumbuhan_pemesanan['order_approved_at'] = pd.to_datetime(pertumbuhan_pemesanan['order_approved_at'])\n"
     ]
    }
   ],
   "source": [
    "# Melakukan transformasi tipe data ke tipe date_time\n",
    "pertumbuhan_pemesanan['order_approved_at'] = pd.to_datetime(pertumbuhan_pemesanan['order_approved_at'])"
   ]
  },
  {
   "cell_type": "code",
   "execution_count": 119,
   "id": "bc5c9da3",
   "metadata": {},
   "outputs": [
    {
     "name": "stderr",
     "output_type": "stream",
     "text": [
      "C:\\Users\\62821\\AppData\\Local\\Temp\\ipykernel_25568\\3782634273.py:1: SettingWithCopyWarning: \n",
      "A value is trying to be set on a copy of a slice from a DataFrame.\n",
      "Try using .loc[row_indexer,col_indexer] = value instead\n",
      "\n",
      "See the caveats in the documentation: https://pandas.pydata.org/pandas-docs/stable/user_guide/indexing.html#returning-a-view-versus-a-copy\n",
      "  pertumbuhan_pemesanan['year'] = pertumbuhan_pemesanan['order_approved_at'].dt.year\n"
     ]
    }
   ],
   "source": [
    "# Melakukan transformasi tipe data ke tipe date_time dan dimasukan ke dalam kolom baru 'year'\n",
    "pertumbuhan_pemesanan['year'] = pertumbuhan_pemesanan['order_approved_at'].dt.year"
   ]
  },
  {
   "cell_type": "code",
   "execution_count": 120,
   "id": "21e4c060",
   "metadata": {},
   "outputs": [
    {
     "data": {
      "text/html": [
       "<div>\n",
       "<style scoped>\n",
       "    .dataframe tbody tr th:only-of-type {\n",
       "        vertical-align: middle;\n",
       "    }\n",
       "\n",
       "    .dataframe tbody tr th {\n",
       "        vertical-align: top;\n",
       "    }\n",
       "\n",
       "    .dataframe thead th {\n",
       "        text-align: right;\n",
       "    }\n",
       "</style>\n",
       "<table border=\"1\" class=\"dataframe\">\n",
       "  <thead>\n",
       "    <tr style=\"text-align: right;\">\n",
       "      <th></th>\n",
       "      <th>order_approved_at</th>\n",
       "      <th>product_category_name_english</th>\n",
       "      <th>order_item_id</th>\n",
       "      <th>year</th>\n",
       "    </tr>\n",
       "  </thead>\n",
       "  <tbody>\n",
       "    <tr>\n",
       "      <th>0</th>\n",
       "      <td>2018-02-15 03:55:52</td>\n",
       "      <td>garden_tools</td>\n",
       "      <td>2</td>\n",
       "      <td>2018</td>\n",
       "    </tr>\n",
       "    <tr>\n",
       "      <th>1</th>\n",
       "      <td>2017-10-16 16:07:52</td>\n",
       "      <td>sports_leisure</td>\n",
       "      <td>2</td>\n",
       "      <td>2017</td>\n",
       "    </tr>\n",
       "    <tr>\n",
       "      <th>2</th>\n",
       "      <td>2017-10-16 16:07:52</td>\n",
       "      <td>sports_leisure</td>\n",
       "      <td>3</td>\n",
       "      <td>2017</td>\n",
       "    </tr>\n",
       "    <tr>\n",
       "      <th>3</th>\n",
       "      <td>2017-12-28 02:33:42</td>\n",
       "      <td>electronics</td>\n",
       "      <td>2</td>\n",
       "      <td>2017</td>\n",
       "    </tr>\n",
       "    <tr>\n",
       "      <th>4</th>\n",
       "      <td>2017-12-28 02:33:42</td>\n",
       "      <td>electronics</td>\n",
       "      <td>3</td>\n",
       "      <td>2017</td>\n",
       "    </tr>\n",
       "    <tr>\n",
       "      <th>...</th>\n",
       "      <td>...</td>\n",
       "      <td>...</td>\n",
       "      <td>...</td>\n",
       "      <td>...</td>\n",
       "    </tr>\n",
       "    <tr>\n",
       "      <th>13979</th>\n",
       "      <td>2018-02-27 20:15:27</td>\n",
       "      <td>electronics</td>\n",
       "      <td>3</td>\n",
       "      <td>2018</td>\n",
       "    </tr>\n",
       "    <tr>\n",
       "      <th>13980</th>\n",
       "      <td>2018-03-17 12:29:22</td>\n",
       "      <td>computers_accessories</td>\n",
       "      <td>2</td>\n",
       "      <td>2018</td>\n",
       "    </tr>\n",
       "    <tr>\n",
       "      <th>13981</th>\n",
       "      <td>2017-10-28 02:55:58</td>\n",
       "      <td>watches_gifts</td>\n",
       "      <td>2</td>\n",
       "      <td>2017</td>\n",
       "    </tr>\n",
       "    <tr>\n",
       "      <th>13982</th>\n",
       "      <td>2017-10-28 02:55:58</td>\n",
       "      <td>watches_gifts</td>\n",
       "      <td>3</td>\n",
       "      <td>2017</td>\n",
       "    </tr>\n",
       "    <tr>\n",
       "      <th>13983</th>\n",
       "      <td>2017-10-28 02:55:58</td>\n",
       "      <td>watches_gifts</td>\n",
       "      <td>4</td>\n",
       "      <td>2017</td>\n",
       "    </tr>\n",
       "  </tbody>\n",
       "</table>\n",
       "<p>13983 rows × 4 columns</p>\n",
       "</div>"
      ],
      "text/plain": [
       "        order_approved_at product_category_name_english  order_item_id  year\n",
       "0     2018-02-15 03:55:52                  garden_tools              2  2018\n",
       "1     2017-10-16 16:07:52                sports_leisure              2  2017\n",
       "2     2017-10-16 16:07:52                sports_leisure              3  2017\n",
       "3     2017-12-28 02:33:42                   electronics              2  2017\n",
       "4     2017-12-28 02:33:42                   electronics              3  2017\n",
       "...                   ...                           ...            ...   ...\n",
       "13979 2018-02-27 20:15:27                   electronics              3  2018\n",
       "13980 2018-03-17 12:29:22         computers_accessories              2  2018\n",
       "13981 2017-10-28 02:55:58                 watches_gifts              2  2017\n",
       "13982 2017-10-28 02:55:58                 watches_gifts              3  2017\n",
       "13983 2017-10-28 02:55:58                 watches_gifts              4  2017\n",
       "\n",
       "[13983 rows x 4 columns]"
      ]
     },
     "execution_count": 120,
     "metadata": {},
     "output_type": "execute_result"
    }
   ],
   "source": [
    "# Menampilkan pertumbuhan_pemesanan DataFrame\n",
    "pertumbuhan_pemesanan"
   ]
  },
  {
   "cell_type": "code",
   "execution_count": 121,
   "id": "b568a508",
   "metadata": {},
   "outputs": [],
   "source": [
    "# Membuat pivot table dan dimasukan ke dalam pertumbuhan_pemesanan_barang\n",
    "pertumbuhan_pemesanan_barang = pertumbuhan_pemesanan.pivot_table(values = \"order_item_id\", index = [\"year\"], columns = [\"product_category_name_english\"],aggfunc = \"sum\", margins = True, margins_name = \"Total\", fill_value = 0)"
   ]
  },
  {
   "cell_type": "code",
   "execution_count": 122,
   "id": "514efcf5",
   "metadata": {},
   "outputs": [],
   "source": [
    "# Melakukan transpose pada pivot table\n",
    "pertumbuhan_pemesanan_barang = pertumbuhan_pemesanan_barang.T"
   ]
  },
  {
   "cell_type": "code",
   "execution_count": 123,
   "id": "d660ab2b",
   "metadata": {},
   "outputs": [
    {
     "data": {
      "text/html": [
       "<div>\n",
       "<style scoped>\n",
       "    .dataframe tbody tr th:only-of-type {\n",
       "        vertical-align: middle;\n",
       "    }\n",
       "\n",
       "    .dataframe tbody tr th {\n",
       "        vertical-align: top;\n",
       "    }\n",
       "\n",
       "    .dataframe thead th {\n",
       "        text-align: right;\n",
       "    }\n",
       "</style>\n",
       "<table border=\"1\" class=\"dataframe\">\n",
       "  <thead>\n",
       "    <tr style=\"text-align: right;\">\n",
       "      <th></th>\n",
       "      <th>order_item_id</th>\n",
       "    </tr>\n",
       "    <tr>\n",
       "      <th>product_category_name_english</th>\n",
       "      <th></th>\n",
       "    </tr>\n",
       "  </thead>\n",
       "  <tbody>\n",
       "    <tr>\n",
       "      <th>furniture_decor</th>\n",
       "      <td>5185</td>\n",
       "    </tr>\n",
       "    <tr>\n",
       "      <th>bed_bath_table</th>\n",
       "      <td>4354</td>\n",
       "    </tr>\n",
       "    <tr>\n",
       "      <th>housewares</th>\n",
       "      <td>3222</td>\n",
       "    </tr>\n",
       "    <tr>\n",
       "      <th>computers_accessories</th>\n",
       "      <td>3214</td>\n",
       "    </tr>\n",
       "    <tr>\n",
       "      <th>garden_tools</th>\n",
       "      <td>2392</td>\n",
       "    </tr>\n",
       "    <tr>\n",
       "      <th>health_beauty</th>\n",
       "      <td>2285</td>\n",
       "    </tr>\n",
       "    <tr>\n",
       "      <th>sports_leisure</th>\n",
       "      <td>2251</td>\n",
       "    </tr>\n",
       "    <tr>\n",
       "      <th>office_furniture</th>\n",
       "      <td>1273</td>\n",
       "    </tr>\n",
       "    <tr>\n",
       "      <th>auto</th>\n",
       "      <td>1001</td>\n",
       "    </tr>\n",
       "    <tr>\n",
       "      <th>watches_gifts</th>\n",
       "      <td>993</td>\n",
       "    </tr>\n",
       "  </tbody>\n",
       "</table>\n",
       "</div>"
      ],
      "text/plain": [
       "                               order_item_id\n",
       "product_category_name_english               \n",
       "furniture_decor                         5185\n",
       "bed_bath_table                          4354\n",
       "housewares                              3222\n",
       "computers_accessories                   3214\n",
       "garden_tools                            2392\n",
       "health_beauty                           2285\n",
       "sports_leisure                          2251\n",
       "office_furniture                        1273\n",
       "auto                                    1001\n",
       "watches_gifts                            993"
      ]
     },
     "execution_count": 123,
     "metadata": {},
     "output_type": "execute_result"
    }
   ],
   "source": [
    "jumlah_pembelian_barang"
   ]
  },
  {
   "cell_type": "code",
   "execution_count": 124,
   "id": "dc15795b",
   "metadata": {},
   "outputs": [],
   "source": [
    "# Melakukan sorting descending pada pivot table\n",
    "pertumbuhan_barang_10_terbesar = pertumbuhan_pemesanan_barang[:-1].sort_values(by = \"Total\", ascending = False).head(10)"
   ]
  },
  {
   "cell_type": "code",
   "execution_count": 125,
   "id": "2402323e",
   "metadata": {},
   "outputs": [
    {
     "data": {
      "text/html": [
       "<div>\n",
       "<style scoped>\n",
       "    .dataframe tbody tr th:only-of-type {\n",
       "        vertical-align: middle;\n",
       "    }\n",
       "\n",
       "    .dataframe tbody tr th {\n",
       "        vertical-align: top;\n",
       "    }\n",
       "\n",
       "    .dataframe thead th {\n",
       "        text-align: right;\n",
       "    }\n",
       "</style>\n",
       "<table border=\"1\" class=\"dataframe\">\n",
       "  <thead>\n",
       "    <tr style=\"text-align: right;\">\n",
       "      <th>year</th>\n",
       "      <th>2016</th>\n",
       "      <th>2017</th>\n",
       "      <th>2018</th>\n",
       "      <th>Total</th>\n",
       "    </tr>\n",
       "    <tr>\n",
       "      <th>product_category_name_english</th>\n",
       "      <th></th>\n",
       "      <th></th>\n",
       "      <th></th>\n",
       "      <th></th>\n",
       "    </tr>\n",
       "  </thead>\n",
       "  <tbody>\n",
       "    <tr>\n",
       "      <th>furniture_decor</th>\n",
       "      <td>54</td>\n",
       "      <td>2623</td>\n",
       "      <td>2508</td>\n",
       "      <td>5185</td>\n",
       "    </tr>\n",
       "    <tr>\n",
       "      <th>bed_bath_table</th>\n",
       "      <td>11</td>\n",
       "      <td>1853</td>\n",
       "      <td>2490</td>\n",
       "      <td>4354</td>\n",
       "    </tr>\n",
       "    <tr>\n",
       "      <th>housewares</th>\n",
       "      <td>7</td>\n",
       "      <td>1288</td>\n",
       "      <td>1927</td>\n",
       "      <td>3222</td>\n",
       "    </tr>\n",
       "    <tr>\n",
       "      <th>computers_accessories</th>\n",
       "      <td>9</td>\n",
       "      <td>1310</td>\n",
       "      <td>1895</td>\n",
       "      <td>3214</td>\n",
       "    </tr>\n",
       "    <tr>\n",
       "      <th>garden_tools</th>\n",
       "      <td>0</td>\n",
       "      <td>1399</td>\n",
       "      <td>993</td>\n",
       "      <td>2392</td>\n",
       "    </tr>\n",
       "    <tr>\n",
       "      <th>health_beauty</th>\n",
       "      <td>15</td>\n",
       "      <td>860</td>\n",
       "      <td>1410</td>\n",
       "      <td>2285</td>\n",
       "    </tr>\n",
       "    <tr>\n",
       "      <th>sports_leisure</th>\n",
       "      <td>0</td>\n",
       "      <td>1106</td>\n",
       "      <td>1145</td>\n",
       "      <td>2251</td>\n",
       "    </tr>\n",
       "    <tr>\n",
       "      <th>office_furniture</th>\n",
       "      <td>0</td>\n",
       "      <td>542</td>\n",
       "      <td>731</td>\n",
       "      <td>1273</td>\n",
       "    </tr>\n",
       "    <tr>\n",
       "      <th>auto</th>\n",
       "      <td>2</td>\n",
       "      <td>605</td>\n",
       "      <td>394</td>\n",
       "      <td>1001</td>\n",
       "    </tr>\n",
       "    <tr>\n",
       "      <th>watches_gifts</th>\n",
       "      <td>0</td>\n",
       "      <td>412</td>\n",
       "      <td>581</td>\n",
       "      <td>993</td>\n",
       "    </tr>\n",
       "  </tbody>\n",
       "</table>\n",
       "</div>"
      ],
      "text/plain": [
       "year                           2016  2017  2018  Total\n",
       "product_category_name_english                         \n",
       "furniture_decor                  54  2623  2508   5185\n",
       "bed_bath_table                   11  1853  2490   4354\n",
       "housewares                        7  1288  1927   3222\n",
       "computers_accessories             9  1310  1895   3214\n",
       "garden_tools                      0  1399   993   2392\n",
       "health_beauty                    15   860  1410   2285\n",
       "sports_leisure                    0  1106  1145   2251\n",
       "office_furniture                  0   542   731   1273\n",
       "auto                              2   605   394   1001\n",
       "watches_gifts                     0   412   581    993"
      ]
     },
     "execution_count": 125,
     "metadata": {},
     "output_type": "execute_result"
    }
   ],
   "source": [
    "pertumbuhan_barang_10_terbesar"
   ]
  },
  {
   "cell_type": "code",
   "execution_count": 126,
   "id": "45deaa3b",
   "metadata": {},
   "outputs": [
    {
     "data": {
      "text/plain": [
       "<AxesSubplot:ylabel='product_category_name_english'>"
      ]
     },
     "execution_count": 126,
     "metadata": {},
     "output_type": "execute_result"
    },
    {
     "data": {
      "image/png": "[encoded data removed]",
      "text/plain": [
       "<Figure size 432x288 with 1 Axes>"
      ]
     },
     "metadata": {
      "needs_background": "light"
     },
     "output_type": "display_data"
    }
   ],
   "source": [
    "# Menampilkan visualisasi dengan bar chart\n",
    "pertumbuhan_barang_10_terbesar.iloc[:,0:3].plot(kind = \"barh\")"
   ]
  },
  {
   "cell_type": "markdown",
   "id": "64d5a189",
   "metadata": {},
   "source": [
    "Terlihat dari bar plot di atas, ternyata pertumbuhan kategori produk yang paling pesat terlihat pada kategori produk bed_bath_table. Hal ini cukup membuktikan bahwa produk bed_bath_table merupakan produk paling bagus performanya dibandingkan dengan produk lain. \n",
    "\n",
    "Sedangkan, performa produk garden_tools perlu diperhatikan dikarenakan menurun secara signifikan dari 1399 menjadi 993 (turun sebesar 29 persen). Perusahaan perlu mencari penyebab penurunan signifikan pada produk garden_tools."
   ]
  }
 ],
 "metadata": {
  "kernelspec": {
   "display_name": "Python 3 (ipykernel)",
   "language": "python",
   "name": "python3"
  },
  "language_info": {
   "codemirror_mode": {
    "name": "ipython",
    "version": 3
   },
   "file_extension": ".py",
   "mimetype": "text/x-python",
   "name": "python",
   "nbconvert_exporter": "python",
   "pygments_lexer": "ipython3",
   "version": "3.9.12"
  }
 },
 "nbformat": 4,
 "nbformat_minor": 5
}
